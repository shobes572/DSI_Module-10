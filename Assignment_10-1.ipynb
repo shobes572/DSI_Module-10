{
 "cells": [
  {
   "cell_type": "markdown",
   "metadata": {},
   "source": [
    "## For this assignment, you’ll use a real-life dataset of housing prices as published in the <a href=\"http://qed.econ.queensu.ca/jae/1996-v11.6/anglin-gencay/\">Journal of Applied Econometrics</a>. Download the data <a href=\"https://tf-assets-prod.s3.amazonaws.com/tf-curric/data-science/homeprices.applied.econ.csv\">here</a>.  Explore the following questions. Include a hypothesis, test assumptions and provide valid findings from the data."
   ]
  },
  {
   "cell_type": "markdown",
   "metadata": {},
   "source": [
    "### 1. Do homes with air conditioning have a higher sales price than homes without air conditioning?"
   ]
  },
  {
   "cell_type": "code",
   "execution_count": 2,
   "metadata": {},
   "outputs": [],
   "source": [
    "import pandas as pd\n",
    "import scipy.stats as st\n",
    "import matplotlib.pyplot as plt\n",
    "import seaborn as sn\n",
    "\n",
    "housedata = pd.read_csv('https://tf-assets-prod.s3.amazonaws.com/tf-curric/data-science/homeprices.applied.econ.csv')"
   ]
  },
  {
   "cell_type": "code",
   "execution_count": 4,
   "metadata": {},
   "outputs": [
    {
     "data": {
      "text/plain": [
       "count       173.000000\n",
       "mean      85880.589595\n",
       "std       28463.438869\n",
       "min       31900.000000\n",
       "25%       66000.000000\n",
       "50%       82000.000000\n",
       "75%      103000.000000\n",
       "max      190000.000000\n",
       "Name: price, dtype: float64"
      ]
     },
     "metadata": {},
     "output_type": "display_data"
    },
    {
     "data": {
      "text/plain": [
       "count       373.000000\n",
       "mean      59884.852547\n",
       "std       21338.739442\n",
       "min       25000.000000\n",
       "25%       45000.000000\n",
       "50%       55500.000000\n",
       "75%       70000.000000\n",
       "max      175000.000000\n",
       "Name: price, dtype: float64"
      ]
     },
     "metadata": {},
     "output_type": "display_data"
    },
    {
     "data": {
      "text/plain": [
       "DescribeResult(nobs=173, minmax=(31900.0, 190000.0), mean=85880.58959537573, variance=810167352.2317516, skewness=0.8558523643779228, kurtosis=0.9609338749117713)"
      ]
     },
     "metadata": {},
     "output_type": "display_data"
    },
    {
     "data": {
      "text/plain": [
       "DescribeResult(nobs=373, minmax=(25000.0, 175000.0), mean=59884.85254691689, variance=455341800.98626363, skewness=1.4196100209360347, kurtosis=3.448225770991252)"
      ]
     },
     "metadata": {},
     "output_type": "display_data"
    }
   ],
   "source": [
    "houseyesair = housedata[housedata['airco'] == 'yes']\n",
    "housenooair = housedata[housedata['airco'] == 'no']\n",
    "\n",
    "display(\n",
    "        houseyesair['price'].describe(),\n",
    "        housenooair['price'].describe()\n",
    ")\n",
    "display(\n",
    "        st.describe(houseyesair['price']),\n",
    "        st.describe(housenooair['price'])\n",
    ")"
   ]
  },
  {
   "cell_type": "code",
   "execution_count": 5,
   "metadata": {},
   "outputs": [
    {
     "data": {
      "text/plain": [
       "(0.9571079015731812, 3.8763711927458644e-05)"
      ]
     },
     "metadata": {},
     "output_type": "display_data"
    },
    {
     "data": {
      "text/plain": [
       "(0.9110526442527771, 5.1547748545783395e-14)"
      ]
     },
     "metadata": {},
     "output_type": "display_data"
    }
   ],
   "source": [
    "display(\n",
    "        st.shapiro(houseyesair['price']),\n",
    "        st.shapiro(housenooair['price'])\n",
    ")"
   ]
  },
  {
   "cell_type": "code",
   "execution_count": 6,
   "metadata": {},
   "outputs": [
    {
     "data": {
      "image/png": "[encoded data removed]",
      "text/plain": [
       "<Figure size 432x288 with 1 Axes>"
      ]
     },
     "metadata": {
      "needs_background": "light"
     },
     "output_type": "display_data"
    }
   ],
   "source": [
    "plt.hist(houseyesair['price'], alpha=0.5, bins=15, label='yesair')\n",
    "plt.hist(housenooair['price'], alpha=0.5, bins=15, label='noair')\n",
    "plt.legend()\n",
    "plt.show()"
   ]
  },
  {
   "cell_type": "markdown",
   "metadata": {},
   "source": [
    "#### <span style=\"color:blue\">Based on the descriptive stats and the histograms, Having airconditioning does have a higher mean value, but due to the non-gaussian distribution we cannot continue with a t-test</span>"
   ]
  },
  {
   "cell_type": "markdown",
   "metadata": {},
   "source": [
    "### 2. Do homes with a full basement have a higher sales price than homes without a full basement?"
   ]
  },
  {
   "cell_type": "code",
   "execution_count": 7,
   "metadata": {},
   "outputs": [
    {
     "data": {
      "text/plain": [
       "count       191.000000\n",
       "mean      74894.502618\n",
       "std       26219.907235\n",
       "min       26000.000000\n",
       "25%       57125.000000\n",
       "50%       70000.000000\n",
       "75%       86000.000000\n",
       "max      175000.000000\n",
       "Name: price, dtype: float64"
      ]
     },
     "metadata": {},
     "output_type": "display_data"
    },
    {
     "data": {
      "text/plain": [
       "count       355.000000\n",
       "mean      64477.583099\n",
       "std       26281.039062\n",
       "min       25000.000000\n",
       "25%       46250.000000\n",
       "50%       58500.000000\n",
       "75%       79750.000000\n",
       "max      190000.000000\n",
       "Name: price, dtype: float64"
      ]
     },
     "metadata": {},
     "output_type": "display_data"
    },
    {
     "data": {
      "text/plain": [
       "DescribeResult(nobs=191, minmax=(26000.0, 175000.0), mean=74894.50261780104, variance=687483535.4092036, skewness=1.299439350765169, kurtosis=2.200944427832982)"
      ]
     },
     "metadata": {},
     "output_type": "display_data"
    },
    {
     "data": {
      "text/plain": [
       "DescribeResult(nobs=355, minmax=(25000.0, 190000.0), mean=64477.58309859155, variance=690693014.1816344, skewness=1.2539001276811907, kurtosis=1.9898502593432044)"
      ]
     },
     "metadata": {},
     "output_type": "display_data"
    }
   ],
   "source": [
    "houseyesbas = housedata[housedata['fullbase'] == 'yes']\n",
    "housenoobas = housedata[housedata['fullbase'] == 'no']\n",
    "\n",
    "display(\n",
    "        houseyesbas['price'].describe(),\n",
    "        housenoobas['price'].describe()\n",
    ")\n",
    "display(\n",
    "        st.describe(houseyesbas['price']),\n",
    "        st.describe(housenoobas['price'])\n",
    ")"
   ]
  },
  {
   "cell_type": "code",
   "execution_count": 9,
   "metadata": {},
   "outputs": [
    {
     "data": {
      "text/plain": [
       "(0.9099170565605164, 2.1508659298064003e-09)"
      ]
     },
     "metadata": {},
     "output_type": "display_data"
    },
    {
     "data": {
      "text/plain": [
       "(0.9093521237373352, 9.197276187172809e-14)"
      ]
     },
     "metadata": {},
     "output_type": "display_data"
    }
   ],
   "source": [
    "display(\n",
    "        st.shapiro(houseyesbas['price']),\n",
    "        st.shapiro(housenoobas['price'])\n",
    ")"
   ]
  },
  {
   "cell_type": "code",
   "execution_count": 11,
   "metadata": {},
   "outputs": [
    {
     "data": {
      "image/png": "[encoded data removed]",
      "text/plain": [
       "<Figure size 432x288 with 1 Axes>"
      ]
     },
     "metadata": {
      "needs_background": "light"
     },
     "output_type": "display_data"
    }
   ],
   "source": [
    "plt.hist(houseyesbas['price'], alpha=0.5, bins=15, label='yesbas')\n",
    "plt.hist(housenoobas['price'], alpha=0.5, bins=15, label='nobas')\n",
    "plt.legend()\n",
    "plt.show()"
   ]
  },
  {
   "cell_type": "markdown",
   "metadata": {},
   "source": [
    "#### <span style=\"color:blue\">Based on the descriptive stats and the histograms, Having a full basement does have a higher mean value, but due to the non-gaussian distribution we cannot continue with a t-test</span>"
   ]
  },
  {
   "cell_type": "markdown",
   "metadata": {},
   "source": [
    "#### <span style=\"color:blue\">Other considerations: We would also need to consider the size of the house and plot as well. There's probably also a correlation to having a full basement and airconditioning to how nice and well-developed a neighborhood is to begin with.</span>"
   ]
  }
 ],
 "metadata": {
  "kernelspec": {
   "display_name": "Python 3",
   "language": "python",
   "name": "python3"
  },
  "language_info": {
   "codemirror_mode": {
    "name": "ipython",
    "version": 3
   },
   "file_extension": ".py",
   "mimetype": "text/x-python",
   "name": "python",
   "nbconvert_exporter": "python",
   "pygments_lexer": "ipython3",
   "version": "3.7.4"
  }
 },
 "nbformat": 4,
 "nbformat_minor": 2
}
