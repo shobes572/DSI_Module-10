{
 "cells": [
  {
   "cell_type": "markdown",
   "metadata": {},
   "source": [
    "## For each of the following questions, outline how you could use an A/B test to find an answer. Be sure to identify all five key components of an A/B test we outlined above."
   ]
  },
  {
   "cell_type": "markdown",
   "metadata": {},
   "source": [
    "### Does a new supplement help people sleep better?"
   ]
  },
  {
   "cell_type": "markdown",
   "metadata": {},
   "source": [
    "<span style=\"color:blue\">\n",
    "    <ol>\n",
    "        <h3><li>Two Versions:</h3>Double-blind study with a control group</li>\n",
    "        <ul>\n",
    "            <h3><li>Control:</h3>A random selection of individuals for the study that report to have troubles sleeping</li>\n",
    "            <h3><li>Treatment:</h3>A random selection of individuals for the study that report to have troubles sleeping</li>\n",
    "        </ul>\n",
    "        <h3><li>Sample:</h3>We cannot measure the desired outcome of the drug on people who already sleep well.  It would be ideal to conduct the test in a laboratory environment, but that's not feasible for the type of study being conducted and the duration required to have any meaningful results.</li>\n",
    "        <h3><li>Hypothesis:</h3>$$H_1 : \\mu_\\text{Control Sleep} - \\mu_\\text{Treatment Sleep} \\neq 0$$</li>\n",
    "        <h3><li>Outcomes:</h3>Expected outcome will be that Sleep-duration and/or Sleep-quality will be greater in the Treatment group.  Preferrably we don't want to leave this as a self-reported criterion.  Either a sleep monitor should be required to track the data or in a lab environment.</li>\n",
    "        <h3><li>Other Variables:</h3>Sleep is highly affected by environmental affects, like allergies, emotional state, work stress, weather, etc.</li>\n",
    "        <br>\n",
    "    </ol>\n",
    "</span>"
   ]
  },
  {
   "cell_type": "markdown",
   "metadata": {},
   "source": [
    "### Will new uniforms help a gym's business?"
   ]
  },
  {
   "cell_type": "markdown",
   "metadata": {},
   "source": [
    "<span style=\"color:blue\">\n",
    "    <ol>\n",
    "        <h3><li>Two Versions:</h3></li>\n",
    "        <ul>\n",
    "            <h3><li>Treatment_1:</h3>Gyms track new memberships/month for at least one year prior to this being implemented.</li>\n",
    "            <h3><li>Treatment_2:</h3>Continue tracking new memberships/month for at least one year after this being implemented.</li>\n",
    "        </ul>\n",
    "        <h3><li>Sample:</h3>Samples will be independant since we're tracking new memberships</li>\n",
    "        <h3><li>Hypothesis:</h3>$$H_1 : \\mu_\\text{New memberships} - \\mu_\\text{Projected memberships} \\neq 0$$</li>\n",
    "        <h3><li>Outcomes:</h3>We will need to track this on a month-to-month basis to determine whether or not the mean memberships/month are higher than usual.</li>\n",
    "        <h3><li>Other Variables:</h3>Whether or not a member returns to the gym is more dependant on the quality of the gym and staff, not the uniform.  Membership signups change seasonally so we would need to track over a period of time where significant other factors in the neighborhood, weather, etc. can affect membership data.</li>\n",
    "        <br>\n",
    "    </ol>\n",
    "</span>"
   ]
  },
  {
   "cell_type": "markdown",
   "metadata": {},
   "source": [
    "### Will a new homepage improve my online exotic pet rental business?"
   ]
  },
  {
   "cell_type": "markdown",
   "metadata": {},
   "source": [
    "<span style=\"color:blue\">\n",
    "    <ol>\n",
    "        <h3><li>Two Versions:</h3>Comparing sales from before and after new website</li>\n",
    "        <ul>\n",
    "            <h3><li>Control:</h3>Sales numbers from before the change</li>\n",
    "            <h3><li>Treatment:</h3>Sales numbers after the change</li>\n",
    "        </ul>\n",
    "        <h3><li>Sample:</h3>Sample size might be low since the company is \"exotic pet rental\".  Generally the demographic of people likely to want exotic pets will be the ones that can afford to buy them, not rent.  Since the sample size is projected to be small, we would likely need to look at the mean sales per quarter or half for the sample size to have any significance.</li>\n",
    "        <h3><li>Hypothesis:</h3>$$H_1 : \\mu_\\text{Quarterly sales PRE} - \\mu_\\text{Quarterly sales POST} \\neq 0$$</li>\n",
    "        <h3><li>Outcomes:</h3>Expected outcome is that the sales per quarter will increase after the website goes live.</li>\n",
    "        <h3><li>Other Variables:</h3>When catering to such a niche market, word of mouth between customers will have a greater affect on sales than the website to attract new customers.</li>\n",
    "        <br>\n",
    "    </ol>\n",
    "</span>"
   ]
  },
  {
   "cell_type": "markdown",
   "metadata": {},
   "source": [
    "### If I put 'please read' in the email subject will more people read my emails?"
   ]
  },
  {
   "cell_type": "markdown",
   "metadata": {},
   "source": [
    "<span style=\"color:blue\">\n",
    "    <ol>\n",
    "        <h3><li>Two Versions:</h3>Hard to measure.  How can we quantify that this?  The only thing that makes sense is if we measure the reply frequency.</li>\n",
    "        <ul>\n",
    "            <h3><li>Control:</h3>Number of responses to emails without 'please read'</li>\n",
    "            <h3><li>Treatment:</h3>Number of responses to emails with 'please read'</li>\n",
    "        </ul>\n",
    "        <h3><li>Sample:</h3>Completely dependant on how often you send emails.  For the purposes of this excersize, test with a 50/50 split.</li>\n",
    "        <h3><li>Hypothesis:</h3>$$H_1 : \\mu_\\text{Response Rate w/} - \\mu_\\text{Response Rate w/o} \\neq 0$$</li>\n",
    "        <h3><li>Outcomes:</h3>We expect an increased response rate to emails with that in the subject line, indicating the email was read.</li>\n",
    "        <h3><li>Other Variables:</h3>The remainder of the text in the subject line.  Also, since our metric is response rate, it will be intrinsically skewed since people that respond to emails are already more likely to read the emails that come in.</li>\n",
    "        <br>\n",
    "    </ol>\n",
    "</span>"
   ]
  }
 ],
 "metadata": {
  "kernelspec": {
   "display_name": "Python 3",
   "language": "python",
   "name": "python3"
  },
  "language_info": {
   "codemirror_mode": {
    "name": "ipython",
    "version": 3
   },
   "file_extension": ".py",
   "mimetype": "text/x-python",
   "name": "python",
   "nbconvert_exporter": "python",
   "pygments_lexer": "ipython3",
   "version": "3.7.4"
  }
 },
 "nbformat": 4,
 "nbformat_minor": 2
}
